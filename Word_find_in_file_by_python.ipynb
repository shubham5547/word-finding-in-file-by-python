{
 "cells": [
  {
   "cell_type": "code",
   "execution_count": 3,
   "metadata": {},
   "outputs": [
    {
     "name": "stdout",
     "output_type": "stream",
     "text": [
      "enter a word here: friends\n",
      "word found\n"
     ]
    }
   ],
   "source": [
    "with open('E:\\shubh.txt') as file:\n",
    "    X = file.read()\n",
    "    search_word = input(\"enter a word here: \")\n",
    "    if search_word in X:\n",
    "        print ('word found')\n",
    "    else:\n",
    "        print ('word not found')"
   ]
  },
  {
   "cell_type": "code",
   "execution_count": 2,
   "metadata": {},
   "outputs": [
    {
     "name": "stdout",
     "output_type": "stream",
     "text": [
      "enter a word here: hello\n",
      "word found\n"
     ]
    }
   ],
   "source": [
    "with open('E:\\shubh.txt') as file:\n",
    "    X = file.read()\n",
    "    search_word = input(\"enter a word here: \")\n",
    "    if search_word in X:\n",
    "        print ('word found')\n",
    "    else:\n",
    "        print ('word not found')"
   ]
  },
  {
   "cell_type": "code",
   "execution_count": 5,
   "metadata": {},
   "outputs": [
    {
     "name": "stdout",
     "output_type": "stream",
     "text": [
      "enter a word you want to search in file: wanna\n",
      "word found\n"
     ]
    }
   ],
   "source": [
    "with open('E:\\shubh.txt') as file:\n",
    "    X = file.read()\n",
    "    search_word = input(\"enter a word here: \")\n",
    "    if search_word in X:\n",
    "        print ('word found')\n",
    "    else:\n",
    "        print ('word not found')"
   ]
  },
  {
   "cell_type": "code",
   "execution_count": 8,
   "metadata": {},
   "outputs": [
    {
     "name": "stdout",
     "output_type": "stream",
     "text": [
      "enter a word here: test\n",
      "word found\n"
     ]
    }
   ],
   "source": [
    "with open('E:\\shubh.txt') as file:\n",
    "    X = file.read()\n",
    "    search_word = input(\"enter a word here: \")\n",
    "    if search_word in X:\n",
    "        print ('word found')\n",
    "    else:\n",
    "        print ('word not found')"
   ]
  },
  {
   "cell_type": "code",
   "execution_count": 5,
   "metadata": {},
   "outputs": [
    {
     "name": "stdout",
     "output_type": "stream",
     "text": [
      "enter a word here: shyam\n",
      "word not found\n"
     ]
    }
   ],
   "source": [
    "with open('E:\\shubh.txt','r') as file:\n",
    "    search_word = input(\"enter a word here: \")\n",
    "    if search_word in X:\n",
    "        print ('word found')\n",
    "    else:\n",
    "        print ('word not found')"
   ]
  },
  {
   "cell_type": "code",
   "execution_count": null,
   "metadata": {},
   "outputs": [],
   "source": []
  }
 ],
 "metadata": {
  "kernelspec": {
   "display_name": "Python 3",
   "language": "python",
   "name": "python3"
  },
  "language_info": {
   "codemirror_mode": {
    "name": "ipython",
    "version": 3
   },
   "file_extension": ".py",
   "mimetype": "text/x-python",
   "name": "python",
   "nbconvert_exporter": "python",
   "pygments_lexer": "ipython3",
   "version": "3.7.6"
  }
 },
 "nbformat": 4,
 "nbformat_minor": 4
}
